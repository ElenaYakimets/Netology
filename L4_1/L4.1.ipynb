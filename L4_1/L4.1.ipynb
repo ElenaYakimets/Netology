{
 "cells": [
  {
   "cell_type": "code",
   "execution_count": null,
   "metadata": {},
   "outputs": [],
   "source": [
    "import pandas as pd\n",
    "import os"
   ]
  },
  {
   "cell_type": "code",
   "execution_count": 3,
   "metadata": {},
   "outputs": [],
   "source": [
    "FILE_SOURCE = 'names'"
   ]
  },
  {
   "cell_type": "code",
   "execution_count": 4,
   "metadata": {},
   "outputs": [],
   "source": [
    "def dataframe_from_file(years_list):\n",
    "    df_result = pd.DataFrame(columns=['Year','Name','Gender','Count'])\n",
    "    for year in years_list:\n",
    "        file_name = ''.join(['yob', str(year), '.txt'])\n",
    "        file_destination = os.path.join(FILE_SOURCE, file_name)\n",
    "        df_result_year = pd.read_csv(file_destination, names=['Name','Gender','Count'])\n",
    "        df_result_year['Year'] = year\n",
    "        df_result = df_result.append(df_result_year)\n",
    "    return df_result"
   ]
  },
  {
   "cell_type": "code",
   "execution_count": null,
   "metadata": {},
   "outputs": [],
   "source": [
    "def count_top3(years_list):\n",
    "    df = dataframe_from_file(years_list)\n",
    "    df_group = df.groupby('Name').Count.sum().to_frame()\n",
    "    df_group_sorted = df_group.sort_values('Count', ascending=False)\n",
    "    top3_names_list = df_group_sorted.head(3).index.tolist()\n",
    "    return top3_names_list"
   ]
  },
  {
   "cell_type": "code",
   "execution_count": null,
   "metadata": {},
   "outputs": [],
   "source": [
    "count_top3([2016])"
   ]
  },
  {
   "cell_type": "code",
   "execution_count": null,
   "metadata": {},
   "outputs": [],
   "source": [
    "count_top3([1880])"
   ]
  },
  {
   "cell_type": "code",
   "execution_count": null,
   "metadata": {},
   "outputs": [],
   "source": [
    "count_top3([1900, 1950, 2000])"
   ]
  },
  {
   "cell_type": "code",
   "execution_count": null,
   "metadata": {},
   "outputs": [],
   "source": [
    "def count_dynamics(years_list):\n",
    "    df = dataframe_from_file(years_list)\n",
    "    results_dict = {}\n",
    "    female_dynamics = list(df[df.Gender=='F'].groupby('Year').Count.sum().to_frame()['Count'])\n",
    "    results_dict['F'] = female_dynamics\n",
    "    male_dynamics = list(df[df.Gender=='M'].groupby('Year').Count.sum().to_frame()['Count'])\n",
    "    results_dict['M'] = male_dynamics\n",
    "    return results_dict"
   ]
  },
  {
   "cell_type": "code",
   "execution_count": null,
   "metadata": {},
   "outputs": [],
   "source": [
    "count_dynamics([1900, 1950, 2000])"
   ]
  }
 ],
 "metadata": {
  "kec": {
   "display_name": "Python 3",
   "language": "python",
   "name": "python3"
  },
  "kernelspec": {
   "display_name": "Python 3",
   "language": "python",
   "name": "python3"
  },
  "language_info": {
   "codemirror_mode": {
    "name": "ipython",
    "version": 3
   },
   "file_extension": ".py",
   "mimetype": "text/x-python",
   "name": "python",
   "nbconvert_exporter": "python",
   "pygments_lexer": "ipython3",
   "version": "3.6.3"
  }
 },
 "nbformat": 4,
 "nbformat_minor": 2
}
