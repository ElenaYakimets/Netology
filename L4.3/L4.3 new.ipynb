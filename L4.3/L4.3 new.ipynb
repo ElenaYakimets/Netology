{
 "cells": [
  {
   "cell_type": "code",
   "execution_count": 1,
   "metadata": {},
   "outputs": [],
   "source": [
    "import requests\n",
    "\n",
    "import pandas as pd\n",
    "import numpy as np\n",
    "import matplotlib.pyplot as plt\n",
    "\n",
    "%matplotlib inline"
   ]
  },
  {
   "cell_type": "code",
   "execution_count": 2,
   "metadata": {},
   "outputs": [],
   "source": [
    "from scipy.cluster.vq import whiten, kmeans2"
   ]
  },
  {
   "cell_type": "code",
   "execution_count": 3,
   "metadata": {},
   "outputs": [],
   "source": [
    "def call_api(uri, result_key):\n",
    "    json = {}\n",
    "    try:\n",
    "        json = requests.get(uri, headers = { 'X-Auth-Token': 'be5abab7dd574861a85e6c39f7a315ca' }).json()\n",
    "        return json[result_key]\n",
    "    except:\n",
    "        print(json)\n",
    "        return None"
   ]
  },
  {
   "cell_type": "code",
   "execution_count": 4,
   "metadata": {},
   "outputs": [],
   "source": [
    "leagues = requests.get('http://api.football-data.org/v1/soccerseasons', headers = { 'X-Auth-Token': 'c52b7825851b4357af3e06c1888152f0' }).json()"
   ]
  },
  {
   "cell_type": "code",
   "execution_count": 5,
   "metadata": {},
   "outputs": [
    {
     "data": {
      "text/plain": [
       "{'_links': {'fixtures': {'href': 'http://api.football-data.org/v1/soccerseasons/445/fixtures'},\n",
       "  'leagueTable': {'href': 'http://api.football-data.org/v1/soccerseasons/445/leagueTable'},\n",
       "  'self': {'href': 'http://api.football-data.org/v1/soccerseasons/445'},\n",
       "  'teams': {'href': 'http://api.football-data.org/v1/soccerseasons/445/teams'}},\n",
       " 'caption': 'Premier League 2017/18',\n",
       " 'currentMatchday': 18,\n",
       " 'id': 445,\n",
       " 'lastUpdated': '2017-12-18T22:10:09Z',\n",
       " 'league': 'PL',\n",
       " 'numberOfGames': 380,\n",
       " 'numberOfMatchdays': 38,\n",
       " 'numberOfTeams': 20,\n",
       " 'year': '2017'}"
      ]
     },
     "execution_count": 5,
     "metadata": {},
     "output_type": "execute_result"
    }
   ],
   "source": [
    "leagues[1]"
   ]
  },
  {
   "cell_type": "code",
   "execution_count": 6,
   "metadata": {},
   "outputs": [
    {
     "data": {
      "text/plain": [
       "[{'_links': {'fixtures': {'href': 'http://api.football-data.org/v1/teams/745/fixtures'},\n",
       "   'players': {'href': 'http://api.football-data.org/v1/teams/745/players'},\n",
       "   'self': {'href': 'http://api.football-data.org/v1/teams/745'}},\n",
       "  'code': 'LEG',\n",
       "  'crestUrl': 'http://upload.wikimedia.org/wikipedia/en/thumb/0/02/Club_Deportivo_Leganés.png/180px-Club_Deportivo_Leganés.png',\n",
       "  'name': 'CD Leganes',\n",
       "  'shortName': 'Leganes',\n",
       "  'squadMarketValue': None},\n",
       " {'_links': {'fixtures': {'href': 'http://api.football-data.org/v1/teams/263/fixtures'},\n",
       "   'players': {'href': 'http://api.football-data.org/v1/teams/263/players'},\n",
       "   'self': {'href': 'http://api.football-data.org/v1/teams/263'}},\n",
       "  'code': 'ALA',\n",
       "  'crestUrl': 'http://upload.wikimedia.org/wikipedia/en/2/2e/Deportivo_Alaves_logo.svg',\n",
       "  'name': 'Deportivo Alavés',\n",
       "  'shortName': 'Alaves',\n",
       "  'squadMarketValue': None},\n",
       " {'_links': {'fixtures': {'href': 'http://api.football-data.org/v1/teams/95/fixtures'},\n",
       "   'players': {'href': 'http://api.football-data.org/v1/teams/95/players'},\n",
       "   'self': {'href': 'http://api.football-data.org/v1/teams/95'}},\n",
       "  'code': 'VAL',\n",
       "  'crestUrl': 'http://upload.wikimedia.org/wikipedia/de/7/75/FC_Valencia.svg',\n",
       "  'name': 'Valencia CF',\n",
       "  'shortName': 'Valencia',\n",
       "  'squadMarketValue': None},\n",
       " {'_links': {'fixtures': {'href': 'http://api.football-data.org/v1/teams/275/fixtures'},\n",
       "   'players': {'href': 'http://api.football-data.org/v1/teams/275/players'},\n",
       "   'self': {'href': 'http://api.football-data.org/v1/teams/275'}},\n",
       "  'code': 'LPA',\n",
       "  'crestUrl': 'http://upload.wikimedia.org/wikipedia/en/2/20/UD_Las_Palmas_logo.svg',\n",
       "  'name': 'UD Las Palmas',\n",
       "  'shortName': 'Las Palmas',\n",
       "  'squadMarketValue': None},\n",
       " {'_links': {'fixtures': {'href': 'http://api.football-data.org/v1/teams/558/fixtures'},\n",
       "   'players': {'href': 'http://api.football-data.org/v1/teams/558/players'},\n",
       "   'self': {'href': 'http://api.football-data.org/v1/teams/558'}},\n",
       "  'code': 'VIG',\n",
       "  'crestUrl': 'http://upload.wikimedia.org/wikipedia/de/0/0c/Celta_Vigo.svg',\n",
       "  'name': 'RC Celta de Vigo',\n",
       "  'shortName': 'Celta Vigo',\n",
       "  'squadMarketValue': None},\n",
       " {'_links': {'fixtures': {'href': 'http://api.football-data.org/v1/teams/92/fixtures'},\n",
       "   'players': {'href': 'http://api.football-data.org/v1/teams/92/players'},\n",
       "   'self': {'href': 'http://api.football-data.org/v1/teams/92'}},\n",
       "  'code': 'RSS',\n",
       "  'crestUrl': 'http://upload.wikimedia.org/wikipedia/de/5/55/Real_Sociedad_San_Sebastián.svg',\n",
       "  'name': 'Real Sociedad de Fútbol',\n",
       "  'shortName': 'Real Sociedad',\n",
       "  'squadMarketValue': None},\n",
       " {'_links': {'fixtures': {'href': 'http://api.football-data.org/v1/teams/298/fixtures'},\n",
       "   'players': {'href': 'http://api.football-data.org/v1/teams/298/players'},\n",
       "   'self': {'href': 'http://api.football-data.org/v1/teams/298'}},\n",
       "  'code': 'GFC',\n",
       "  'crestUrl': 'http://upload.wikimedia.org/wikipedia/en/9/90/For_article_Girona_FC.svg',\n",
       "  'name': 'Girona FC',\n",
       "  'shortName': 'Girona',\n",
       "  'squadMarketValue': None},\n",
       " {'_links': {'fixtures': {'href': 'http://api.football-data.org/v1/teams/78/fixtures'},\n",
       "   'players': {'href': 'http://api.football-data.org/v1/teams/78/players'},\n",
       "   'self': {'href': 'http://api.football-data.org/v1/teams/78'}},\n",
       "  'code': 'ATM',\n",
       "  'crestUrl': 'http://upload.wikimedia.org/wikipedia/de/c/c1/Atletico_Madrid_logo.svg',\n",
       "  'name': 'Club Atlético de Madrid',\n",
       "  'shortName': 'Atlético',\n",
       "  'squadMarketValue': None},\n",
       " {'_links': {'fixtures': {'href': 'http://api.football-data.org/v1/teams/559/fixtures'},\n",
       "   'players': {'href': 'http://api.football-data.org/v1/teams/559/players'},\n",
       "   'self': {'href': 'http://api.football-data.org/v1/teams/559'}},\n",
       "  'code': 'SEV',\n",
       "  'crestUrl': 'http://upload.wikimedia.org/wikipedia/en/8/86/Sevilla_cf_200px.png',\n",
       "  'name': 'Sevilla FC',\n",
       "  'shortName': 'Sevilla',\n",
       "  'squadMarketValue': None},\n",
       " {'_links': {'fixtures': {'href': 'http://api.football-data.org/v1/teams/80/fixtures'},\n",
       "   'players': {'href': 'http://api.football-data.org/v1/teams/80/players'},\n",
       "   'self': {'href': 'http://api.football-data.org/v1/teams/80'}},\n",
       "  'code': 'ESP',\n",
       "  'crestUrl': 'http://upload.wikimedia.org/wikipedia/de/a/a7/RCD_Espanyol_De_Barcelona.svg',\n",
       "  'name': 'RCD Espanyol',\n",
       "  'shortName': 'Espanyol',\n",
       "  'squadMarketValue': None},\n",
       " {'_links': {'fixtures': {'href': 'http://api.football-data.org/v1/teams/77/fixtures'},\n",
       "   'players': {'href': 'http://api.football-data.org/v1/teams/77/players'},\n",
       "   'self': {'href': 'http://api.football-data.org/v1/teams/77'}},\n",
       "  'code': 'BIL',\n",
       "  'crestUrl': 'http://upload.wikimedia.org/wikipedia/de/7/7f/Athletic_Club_Bilbao.svg',\n",
       "  'name': 'Athletic Club',\n",
       "  'shortName': 'Athletic',\n",
       "  'squadMarketValue': None},\n",
       " {'_links': {'fixtures': {'href': 'http://api.football-data.org/v1/teams/82/fixtures'},\n",
       "   'players': {'href': 'http://api.football-data.org/v1/teams/82/players'},\n",
       "   'self': {'href': 'http://api.football-data.org/v1/teams/82'}},\n",
       "  'code': 'FCG',\n",
       "  'crestUrl': 'http://upload.wikimedia.org/wikipedia/de/d/de/Getafe_CF.svg',\n",
       "  'name': 'Getafe CF',\n",
       "  'shortName': 'Getafe',\n",
       "  'squadMarketValue': None},\n",
       " {'_links': {'fixtures': {'href': 'http://api.football-data.org/v1/teams/81/fixtures'},\n",
       "   'players': {'href': 'http://api.football-data.org/v1/teams/81/players'},\n",
       "   'self': {'href': 'http://api.football-data.org/v1/teams/81'}},\n",
       "  'code': 'FCB',\n",
       "  'crestUrl': 'http://upload.wikimedia.org/wikipedia/de/a/aa/Fc_barcelona.svg',\n",
       "  'name': 'FC Barcelona',\n",
       "  'shortName': 'Barcelona',\n",
       "  'squadMarketValue': None},\n",
       " {'_links': {'fixtures': {'href': 'http://api.football-data.org/v1/teams/90/fixtures'},\n",
       "   'players': {'href': 'http://api.football-data.org/v1/teams/90/players'},\n",
       "   'self': {'href': 'http://api.football-data.org/v1/teams/90'}},\n",
       "  'code': 'BET',\n",
       "  'crestUrl': 'http://upload.wikimedia.org/wikipedia/de/4/43/Real_Betis.svg',\n",
       "  'name': 'Real Betis',\n",
       "  'shortName': 'Betis',\n",
       "  'squadMarketValue': None},\n",
       " {'_links': {'fixtures': {'href': 'http://api.football-data.org/v1/teams/560/fixtures'},\n",
       "   'players': {'href': 'http://api.football-data.org/v1/teams/560/players'},\n",
       "   'self': {'href': 'http://api.football-data.org/v1/teams/560'}},\n",
       "  'code': 'LAC',\n",
       "  'crestUrl': 'http://upload.wikimedia.org/wikipedia/en/4/4e/RC_Deportivo_La_Coruña_logo.svg',\n",
       "  'name': 'RC Deportivo La Coruna',\n",
       "  'shortName': 'Deportivo',\n",
       "  'squadMarketValue': None},\n",
       " {'_links': {'fixtures': {'href': 'http://api.football-data.org/v1/teams/86/fixtures'},\n",
       "   'players': {'href': 'http://api.football-data.org/v1/teams/86/players'},\n",
       "   'self': {'href': 'http://api.football-data.org/v1/teams/86'}},\n",
       "  'code': 'MAD',\n",
       "  'crestUrl': 'http://upload.wikimedia.org/wikipedia/de/3/3f/Real_Madrid_Logo.svg',\n",
       "  'name': 'Real Madrid CF',\n",
       "  'shortName': 'Real Madrid',\n",
       "  'squadMarketValue': None},\n",
       " {'_links': {'fixtures': {'href': 'http://api.football-data.org/v1/teams/88/fixtures'},\n",
       "   'players': {'href': 'http://api.football-data.org/v1/teams/88/players'},\n",
       "   'self': {'href': 'http://api.football-data.org/v1/teams/88'}},\n",
       "  'code': 'LUD',\n",
       "  'crestUrl': 'http://upload.wikimedia.org/wikipedia/de/1/1f/Levante_ud.svg',\n",
       "  'name': 'Levante UD',\n",
       "  'shortName': 'Levante',\n",
       "  'squadMarketValue': None},\n",
       " {'_links': {'fixtures': {'href': 'http://api.football-data.org/v1/teams/94/fixtures'},\n",
       "   'players': {'href': 'http://api.football-data.org/v1/teams/94/players'},\n",
       "   'self': {'href': 'http://api.football-data.org/v1/teams/94'}},\n",
       "  'code': 'VCF',\n",
       "  'crestUrl': 'http://upload.wikimedia.org/wikipedia/de/7/70/Villarreal_CF_logo.svg',\n",
       "  'name': 'Villarreal CF',\n",
       "  'shortName': 'Villareal',\n",
       "  'squadMarketValue': None},\n",
       " {'_links': {'fixtures': {'href': 'http://api.football-data.org/v1/teams/84/fixtures'},\n",
       "   'players': {'href': 'http://api.football-data.org/v1/teams/84/players'},\n",
       "   'self': {'href': 'http://api.football-data.org/v1/teams/84'}},\n",
       "  'code': 'MAL',\n",
       "  'crestUrl': 'http://upload.wikimedia.org/wikipedia/de/e/e8/FC_Málaga.svg',\n",
       "  'name': 'Málaga CF',\n",
       "  'shortName': 'Málaga',\n",
       "  'squadMarketValue': None},\n",
       " {'_links': {'fixtures': {'href': 'http://api.football-data.org/v1/teams/278/fixtures'},\n",
       "   'players': {'href': 'http://api.football-data.org/v1/teams/278/players'},\n",
       "   'self': {'href': 'http://api.football-data.org/v1/teams/278'}},\n",
       "  'code': 'EIB',\n",
       "  'crestUrl': 'http://upload.wikimedia.org/wikipedia/en/7/75/SD_Eibar_logo.svg',\n",
       "  'name': 'SD Eibar',\n",
       "  'shortName': 'Eibar',\n",
       "  'squadMarketValue': None}]"
      ]
     },
     "execution_count": 6,
     "metadata": {},
     "output_type": "execute_result"
    }
   ],
   "source": [
    "teams = call_api('http://api.football-data.org/v1/soccerseasons/455/teams', 'teams')\n",
    "teams"
   ]
  },
  {
   "cell_type": "code",
   "execution_count": 80,
   "metadata": {},
   "outputs": [
    {
     "name": "stdout",
     "output_type": "stream",
     "text": [
      "Team \"CD Leganes\",12 goal, 7 loss\n",
      "Team \"Deportivo Alavés\",12 goal, 12 loss\n",
      "Team \"Valencia CF\",36 goal, 2 loss\n",
      "Team \"UD Las Palmas\",13 goal, 11 loss\n",
      "Team \"RC Celta de Vigo\",27 goal, 8 loss\n",
      "Team \"Real Sociedad de Fútbol\",28 goal, 6 loss\n",
      "Team \"Girona FC\",20 goal, 5 loss\n",
      "Team \"Club Atlético de Madrid\",30 goal, 1 loss\n",
      "Team \"Sevilla FC\",31 goal, 6 loss\n",
      "Team \"RCD Espanyol\",13 goal, 7 loss\n",
      "Team \"Athletic Club\",16 goal, 6 loss\n",
      "Team \"Getafe CF\",20 goal, 6 loss\n",
      "Team \"FC Barcelona\",51 goal, 0 loss\n",
      "Team \"Real Betis\",25 goal, 7 loss\n",
      "Team \"RC Deportivo La Coruna\",18 goal, 9 loss\n",
      "Team \"Real Madrid CF\",47 goal, 3 loss\n",
      "Team \"Levante UD\",15 goal, 5 loss\n",
      "Team \"Villarreal CF\",23 goal, 6 loss\n",
      "Team \"Málaga CF\",13 goal, 11 loss\n",
      "Team \"SD Eibar\",18 goal, 7 loss\n"
     ]
    }
   ],
   "source": [
    "for team in teams:\n",
    "    players = call_api(team['_links']['players']['href'], 'players')\n",
    "    fixtures = call_api(team['_links']['fixtures']['href'], 'fixtures')\n",
    "    goal = 0\n",
    "    loss = 0 \n",
    "    for f in fixtures:\n",
    "        if f['status'] == 'FINISHED':\n",
    "            matches += 1\n",
    "            if team['name'] == f['homeTeamName']:\n",
    "                goal += f['result']['goalsHomeTeam'] if f['result']['goalsHomeTeam'] else 0            \n",
    "                loss += 1 if f['result']['goalsHomeTeam'] < f['result']['goalsAwayTeam'] else 0\n",
    "            elif team['name'] == f['awayTeamName']:\n",
    "                goal += f['result']['goalsAwayTeam'] if f['result']['goalsAwayTeam'] else 0           \n",
    "                loss += 1 if f['result']['goalsAwayTeam'] < f['result']['goalsHomeTeam'] else 0\n",
    "    print('Team \"{}\",{} goal, {} loss'.format(team['name'], goal, loss))\n",
    "    team['goal'] = goal\n",
    "    team['loss'] = loss"
   ]
  },
  {
   "cell_type": "code",
   "execution_count": 82,
   "metadata": {},
   "outputs": [
    {
     "data": {
      "text/plain": [
       "[{'goal': 12, 'loss': 7, 'name': 'CD Leganes'},\n",
       " {'goal': 12, 'loss': 12, 'name': 'Deportivo Alavés'},\n",
       " {'goal': 36, 'loss': 2, 'name': 'Valencia CF'},\n",
       " {'goal': 13, 'loss': 11, 'name': 'UD Las Palmas'},\n",
       " {'goal': 27, 'loss': 8, 'name': 'RC Celta de Vigo'},\n",
       " {'goal': 28, 'loss': 6, 'name': 'Real Sociedad de Fútbol'},\n",
       " {'goal': 20, 'loss': 5, 'name': 'Girona FC'},\n",
       " {'goal': 30, 'loss': 1, 'name': 'Club Atlético de Madrid'},\n",
       " {'goal': 31, 'loss': 6, 'name': 'Sevilla FC'},\n",
       " {'goal': 13, 'loss': 7, 'name': 'RCD Espanyol'},\n",
       " {'goal': 16, 'loss': 6, 'name': 'Athletic Club'},\n",
       " {'goal': 20, 'loss': 6, 'name': 'Getafe CF'},\n",
       " {'goal': 51, 'loss': 0, 'name': 'FC Barcelona'},\n",
       " {'goal': 25, 'loss': 7, 'name': 'Real Betis'},\n",
       " {'goal': 18, 'loss': 9, 'name': 'RC Deportivo La Coruna'},\n",
       " {'goal': 47, 'loss': 3, 'name': 'Real Madrid CF'},\n",
       " {'goal': 15, 'loss': 5, 'name': 'Levante UD'},\n",
       " {'goal': 23, 'loss': 6, 'name': 'Villarreal CF'},\n",
       " {'goal': 13, 'loss': 11, 'name': 'Málaga CF'},\n",
       " {'goal': 18, 'loss': 7, 'name': 'SD Eibar'}]"
      ]
     },
     "execution_count": 82,
     "metadata": {},
     "output_type": "execute_result"
    }
   ],
   "source": [
    "team_for_pd = []\n",
    "for team in teams:\n",
    "    team_for_pd.append({'name': team['name'],'goal': team['goal'], 'loss': team['loss']})\n",
    "team_for_pd"
   ]
  },
  {
   "cell_type": "code",
   "execution_count": 83,
   "metadata": {},
   "outputs": [
    {
     "data": {
      "text/html": [
       "<div>\n",
       "<style scoped>\n",
       "    .dataframe tbody tr th:only-of-type {\n",
       "        vertical-align: middle;\n",
       "    }\n",
       "\n",
       "    .dataframe tbody tr th {\n",
       "        vertical-align: top;\n",
       "    }\n",
       "\n",
       "    .dataframe thead th {\n",
       "        text-align: right;\n",
       "    }\n",
       "</style>\n",
       "<table border=\"1\" class=\"dataframe\">\n",
       "  <thead>\n",
       "    <tr style=\"text-align: right;\">\n",
       "      <th></th>\n",
       "      <th>goal</th>\n",
       "      <th>loss</th>\n",
       "      <th>name</th>\n",
       "    </tr>\n",
       "  </thead>\n",
       "  <tbody>\n",
       "    <tr>\n",
       "      <th>0</th>\n",
       "      <td>12</td>\n",
       "      <td>7</td>\n",
       "      <td>CD Leganes</td>\n",
       "    </tr>\n",
       "    <tr>\n",
       "      <th>1</th>\n",
       "      <td>12</td>\n",
       "      <td>12</td>\n",
       "      <td>Deportivo Alavés</td>\n",
       "    </tr>\n",
       "    <tr>\n",
       "      <th>2</th>\n",
       "      <td>36</td>\n",
       "      <td>2</td>\n",
       "      <td>Valencia CF</td>\n",
       "    </tr>\n",
       "    <tr>\n",
       "      <th>3</th>\n",
       "      <td>13</td>\n",
       "      <td>11</td>\n",
       "      <td>UD Las Palmas</td>\n",
       "    </tr>\n",
       "    <tr>\n",
       "      <th>4</th>\n",
       "      <td>27</td>\n",
       "      <td>8</td>\n",
       "      <td>RC Celta de Vigo</td>\n",
       "    </tr>\n",
       "    <tr>\n",
       "      <th>5</th>\n",
       "      <td>28</td>\n",
       "      <td>6</td>\n",
       "      <td>Real Sociedad de Fútbol</td>\n",
       "    </tr>\n",
       "    <tr>\n",
       "      <th>6</th>\n",
       "      <td>20</td>\n",
       "      <td>5</td>\n",
       "      <td>Girona FC</td>\n",
       "    </tr>\n",
       "    <tr>\n",
       "      <th>7</th>\n",
       "      <td>30</td>\n",
       "      <td>1</td>\n",
       "      <td>Club Atlético de Madrid</td>\n",
       "    </tr>\n",
       "    <tr>\n",
       "      <th>8</th>\n",
       "      <td>31</td>\n",
       "      <td>6</td>\n",
       "      <td>Sevilla FC</td>\n",
       "    </tr>\n",
       "    <tr>\n",
       "      <th>9</th>\n",
       "      <td>13</td>\n",
       "      <td>7</td>\n",
       "      <td>RCD Espanyol</td>\n",
       "    </tr>\n",
       "    <tr>\n",
       "      <th>10</th>\n",
       "      <td>16</td>\n",
       "      <td>6</td>\n",
       "      <td>Athletic Club</td>\n",
       "    </tr>\n",
       "    <tr>\n",
       "      <th>11</th>\n",
       "      <td>20</td>\n",
       "      <td>6</td>\n",
       "      <td>Getafe CF</td>\n",
       "    </tr>\n",
       "    <tr>\n",
       "      <th>12</th>\n",
       "      <td>51</td>\n",
       "      <td>0</td>\n",
       "      <td>FC Barcelona</td>\n",
       "    </tr>\n",
       "    <tr>\n",
       "      <th>13</th>\n",
       "      <td>25</td>\n",
       "      <td>7</td>\n",
       "      <td>Real Betis</td>\n",
       "    </tr>\n",
       "    <tr>\n",
       "      <th>14</th>\n",
       "      <td>18</td>\n",
       "      <td>9</td>\n",
       "      <td>RC Deportivo La Coruna</td>\n",
       "    </tr>\n",
       "    <tr>\n",
       "      <th>15</th>\n",
       "      <td>47</td>\n",
       "      <td>3</td>\n",
       "      <td>Real Madrid CF</td>\n",
       "    </tr>\n",
       "    <tr>\n",
       "      <th>16</th>\n",
       "      <td>15</td>\n",
       "      <td>5</td>\n",
       "      <td>Levante UD</td>\n",
       "    </tr>\n",
       "    <tr>\n",
       "      <th>17</th>\n",
       "      <td>23</td>\n",
       "      <td>6</td>\n",
       "      <td>Villarreal CF</td>\n",
       "    </tr>\n",
       "    <tr>\n",
       "      <th>18</th>\n",
       "      <td>13</td>\n",
       "      <td>11</td>\n",
       "      <td>Málaga CF</td>\n",
       "    </tr>\n",
       "    <tr>\n",
       "      <th>19</th>\n",
       "      <td>18</td>\n",
       "      <td>7</td>\n",
       "      <td>SD Eibar</td>\n",
       "    </tr>\n",
       "  </tbody>\n",
       "</table>\n",
       "</div>"
      ],
      "text/plain": [
       "    goal  loss                     name\n",
       "0     12     7               CD Leganes\n",
       "1     12    12         Deportivo Alavés\n",
       "2     36     2              Valencia CF\n",
       "3     13    11            UD Las Palmas\n",
       "4     27     8         RC Celta de Vigo\n",
       "5     28     6  Real Sociedad de Fútbol\n",
       "6     20     5                Girona FC\n",
       "7     30     1  Club Atlético de Madrid\n",
       "8     31     6               Sevilla FC\n",
       "9     13     7             RCD Espanyol\n",
       "10    16     6            Athletic Club\n",
       "11    20     6                Getafe CF\n",
       "12    51     0             FC Barcelona\n",
       "13    25     7               Real Betis\n",
       "14    18     9   RC Deportivo La Coruna\n",
       "15    47     3           Real Madrid CF\n",
       "16    15     5               Levante UD\n",
       "17    23     6            Villarreal CF\n",
       "18    13    11                Málaga CF\n",
       "19    18     7                 SD Eibar"
      ]
     },
     "execution_count": 83,
     "metadata": {},
     "output_type": "execute_result"
    }
   ],
   "source": [
    "teams_pd = pd.DataFrame(team_for_pd)\n",
    "teams_pd"
   ]
  },
  {
   "cell_type": "code",
   "execution_count": 84,
   "metadata": {},
   "outputs": [
    {
     "data": {
      "text/plain": [
       "<matplotlib.axes._subplots.AxesSubplot at 0xa58fcd0>"
      ]
     },
     "execution_count": 84,
     "metadata": {},
     "output_type": "execute_result"
    },
    {
     "data": {
      "image/png": "[encoded data removed]",
      "text/plain": [
       "<matplotlib.figure.Figure at 0xa58fbf0>"
      ]
     },
     "metadata": {},
     "output_type": "display_data"
    }
   ],
   "source": [
    "teams_pd.plot.scatter(x='loss', y='goal', s=80)"
   ]
  },
  {
   "cell_type": "code",
   "execution_count": 85,
   "metadata": {},
   "outputs": [
    {
     "data": {
      "text/html": [
       "<div>\n",
       "<style scoped>\n",
       "    .dataframe tbody tr th:only-of-type {\n",
       "        vertical-align: middle;\n",
       "    }\n",
       "\n",
       "    .dataframe tbody tr th {\n",
       "        vertical-align: top;\n",
       "    }\n",
       "\n",
       "    .dataframe thead th {\n",
       "        text-align: right;\n",
       "    }\n",
       "</style>\n",
       "<table border=\"1\" class=\"dataframe\">\n",
       "  <thead>\n",
       "    <tr style=\"text-align: right;\">\n",
       "      <th></th>\n",
       "      <th>goal</th>\n",
       "      <th>loss</th>\n",
       "    </tr>\n",
       "  </thead>\n",
       "  <tbody>\n",
       "    <tr>\n",
       "      <th>0</th>\n",
       "      <td>12</td>\n",
       "      <td>7</td>\n",
       "    </tr>\n",
       "    <tr>\n",
       "      <th>1</th>\n",
       "      <td>12</td>\n",
       "      <td>12</td>\n",
       "    </tr>\n",
       "    <tr>\n",
       "      <th>2</th>\n",
       "      <td>36</td>\n",
       "      <td>2</td>\n",
       "    </tr>\n",
       "    <tr>\n",
       "      <th>3</th>\n",
       "      <td>13</td>\n",
       "      <td>11</td>\n",
       "    </tr>\n",
       "    <tr>\n",
       "      <th>4</th>\n",
       "      <td>27</td>\n",
       "      <td>8</td>\n",
       "    </tr>\n",
       "    <tr>\n",
       "      <th>5</th>\n",
       "      <td>28</td>\n",
       "      <td>6</td>\n",
       "    </tr>\n",
       "    <tr>\n",
       "      <th>6</th>\n",
       "      <td>20</td>\n",
       "      <td>5</td>\n",
       "    </tr>\n",
       "    <tr>\n",
       "      <th>7</th>\n",
       "      <td>30</td>\n",
       "      <td>1</td>\n",
       "    </tr>\n",
       "    <tr>\n",
       "      <th>8</th>\n",
       "      <td>31</td>\n",
       "      <td>6</td>\n",
       "    </tr>\n",
       "    <tr>\n",
       "      <th>9</th>\n",
       "      <td>13</td>\n",
       "      <td>7</td>\n",
       "    </tr>\n",
       "    <tr>\n",
       "      <th>10</th>\n",
       "      <td>16</td>\n",
       "      <td>6</td>\n",
       "    </tr>\n",
       "    <tr>\n",
       "      <th>11</th>\n",
       "      <td>20</td>\n",
       "      <td>6</td>\n",
       "    </tr>\n",
       "    <tr>\n",
       "      <th>12</th>\n",
       "      <td>51</td>\n",
       "      <td>0</td>\n",
       "    </tr>\n",
       "    <tr>\n",
       "      <th>13</th>\n",
       "      <td>25</td>\n",
       "      <td>7</td>\n",
       "    </tr>\n",
       "    <tr>\n",
       "      <th>14</th>\n",
       "      <td>18</td>\n",
       "      <td>9</td>\n",
       "    </tr>\n",
       "    <tr>\n",
       "      <th>15</th>\n",
       "      <td>47</td>\n",
       "      <td>3</td>\n",
       "    </tr>\n",
       "    <tr>\n",
       "      <th>16</th>\n",
       "      <td>15</td>\n",
       "      <td>5</td>\n",
       "    </tr>\n",
       "    <tr>\n",
       "      <th>17</th>\n",
       "      <td>23</td>\n",
       "      <td>6</td>\n",
       "    </tr>\n",
       "    <tr>\n",
       "      <th>18</th>\n",
       "      <td>13</td>\n",
       "      <td>11</td>\n",
       "    </tr>\n",
       "    <tr>\n",
       "      <th>19</th>\n",
       "      <td>18</td>\n",
       "      <td>7</td>\n",
       "    </tr>\n",
       "  </tbody>\n",
       "</table>\n",
       "</div>"
      ],
      "text/plain": [
       "    goal  loss\n",
       "0     12     7\n",
       "1     12    12\n",
       "2     36     2\n",
       "3     13    11\n",
       "4     27     8\n",
       "5     28     6\n",
       "6     20     5\n",
       "7     30     1\n",
       "8     31     6\n",
       "9     13     7\n",
       "10    16     6\n",
       "11    20     6\n",
       "12    51     0\n",
       "13    25     7\n",
       "14    18     9\n",
       "15    47     3\n",
       "16    15     5\n",
       "17    23     6\n",
       "18    13    11\n",
       "19    18     7"
      ]
     },
     "execution_count": 85,
     "metadata": {},
     "output_type": "execute_result"
    }
   ],
   "source": [
    "del teams_pd['name']\n",
    "teams_pd"
   ]
  },
  {
   "cell_type": "code",
   "execution_count": 86,
   "metadata": {},
   "outputs": [
    {
     "data": {
      "text/plain": [
       "array([[ 1.09389652,  2.27259552],\n",
       "       [ 1.09389652,  3.89587803],\n",
       "       [ 3.28168957,  0.649313  ],\n",
       "       [ 1.18505457,  3.57122153],\n",
       "       [ 2.46126718,  2.59725202],\n",
       "       [ 2.55242522,  1.94793901],\n",
       "       [ 1.82316087,  1.62328251],\n",
       "       [ 2.73474131,  0.3246565 ],\n",
       "       [ 2.82589935,  1.94793901],\n",
       "       [ 1.18505457,  2.27259552],\n",
       "       [ 1.4585287 ,  1.94793901],\n",
       "       [ 1.82316087,  1.94793901],\n",
       "       [ 4.64906023,  0.        ],\n",
       "       [ 2.27895109,  2.27259552],\n",
       "       [ 1.64084479,  2.92190852],\n",
       "       [ 4.28442805,  0.97396951],\n",
       "       [ 1.36737066,  1.62328251],\n",
       "       [ 2.09663501,  1.94793901],\n",
       "       [ 1.18505457,  3.57122153],\n",
       "       [ 1.64084479,  2.27259552]])"
      ]
     },
     "execution_count": 86,
     "metadata": {},
     "output_type": "execute_result"
    }
   ],
   "source": [
    "whitened = whiten(teams_pd.as_matrix())\n",
    "whitened"
   ]
  },
  {
   "cell_type": "code",
   "execution_count": 87,
   "metadata": {},
   "outputs": [
    {
     "data": {
      "text/plain": [
       "(array([[ 1.23063359,  3.08423677],\n",
       "        [ 3.73747979,  0.48698475],\n",
       "        [ 2.03282437,  2.01287031]]),\n",
       " array([0, 0, 1, 0, 2, 2, 2, 1, 2, 0, 2, 2, 1, 2, 0, 1, 2, 2, 0, 2]))"
      ]
     },
     "execution_count": 87,
     "metadata": {},
     "output_type": "execute_result"
    }
   ],
   "source": [
    "centroids, cluster_map = kmeans2(whitened, 3)\n",
    "centroids, cluster_map"
   ]
  },
  {
   "cell_type": "code",
   "execution_count": 88,
   "metadata": {},
   "outputs": [
    {
     "data": {
      "text/plain": [
       "['r',\n",
       " 'r',\n",
       " 'g',\n",
       " 'r',\n",
       " 'b',\n",
       " 'b',\n",
       " 'b',\n",
       " 'g',\n",
       " 'b',\n",
       " 'r',\n",
       " 'b',\n",
       " 'b',\n",
       " 'g',\n",
       " 'b',\n",
       " 'r',\n",
       " 'g',\n",
       " 'b',\n",
       " 'b',\n",
       " 'r',\n",
       " 'b']"
      ]
     },
     "execution_count": 88,
     "metadata": {},
     "output_type": "execute_result"
    }
   ],
   "source": [
    "colors_map = {0: 'r', 1: 'g', 2: 'b', 3: 'y', 4: 'm'}\n",
    "colors = [colors_map[c] for c in cluster_map]\n",
    "colors"
   ]
  },
  {
   "cell_type": "code",
   "execution_count": 89,
   "metadata": {},
   "outputs": [
    {
     "data": {
      "text/plain": [
       "<matplotlib.axes._subplots.AxesSubplot at 0xa5b1fb0>"
      ]
     },
     "execution_count": 89,
     "metadata": {},
     "output_type": "execute_result"
    },
    {
     "data": {
      "image/png": "[encoded data removed]",
      "text/plain": [
       "<matplotlib.figure.Figure at 0xa5c17f0>"
      ]
     },
     "metadata": {},
     "output_type": "display_data"
    }
   ],
   "source": [
    "teams_pd.plot.scatter(x='loss', y='goal', c=colors, s=80)"
   ]
  },
  {
   "cell_type": "code",
   "execution_count": 90,
   "metadata": {},
   "outputs": [
    {
     "data": {
      "text/plain": [
       "(array([[ 1.50410772,  2.11026727],\n",
       "        [ 3.00821544,  0.48698475],\n",
       "        [ 2.44303557,  2.14273292],\n",
       "        [ 4.46674414,  0.48698475],\n",
       "        [ 1.15466855,  3.67944036]]),\n",
       " array([0, 4, 1, 4, 2, 2, 0, 1, 2, 0, 0, 0, 3, 2, 0, 3, 0, 2, 4, 0]))"
      ]
     },
     "execution_count": 90,
     "metadata": {},
     "output_type": "execute_result"
    }
   ],
   "source": [
    "centroids, cluster_map = kmeans2(whitened, 5)\n",
    "centroids, cluster_map"
   ]
  },
  {
   "cell_type": "code",
   "execution_count": 91,
   "metadata": {},
   "outputs": [
    {
     "data": {
      "text/plain": [
       "['r',\n",
       " 'm',\n",
       " 'g',\n",
       " 'm',\n",
       " 'b',\n",
       " 'b',\n",
       " 'r',\n",
       " 'g',\n",
       " 'b',\n",
       " 'r',\n",
       " 'r',\n",
       " 'r',\n",
       " 'y',\n",
       " 'b',\n",
       " 'r',\n",
       " 'y',\n",
       " 'r',\n",
       " 'b',\n",
       " 'm',\n",
       " 'r']"
      ]
     },
     "execution_count": 91,
     "metadata": {},
     "output_type": "execute_result"
    }
   ],
   "source": [
    "colors_map = {0: 'r', 1: 'g', 2: 'b', 3: 'y', 4: 'm'}\n",
    "colors = [colors_map[c] for c in cluster_map]\n",
    "colors"
   ]
  },
  {
   "cell_type": "code",
   "execution_count": 92,
   "metadata": {},
   "outputs": [
    {
     "data": {
      "text/plain": [
       "<matplotlib.axes._subplots.AxesSubplot at 0xa6001f0>"
      ]
     },
     "execution_count": 92,
     "metadata": {},
     "output_type": "execute_result"
    },
    {
     "data": {
      "image/png": "[encoded data removed]",
      "text/plain": [
       "<matplotlib.figure.Figure at 0xa2df390>"
      ]
     },
     "metadata": {},
     "output_type": "display_data"
    }
   ],
   "source": [
    "teams_pd.plot.scatter(x='loss', y='goal', c=colors, s=80)"
   ]
  }
 ],
 "metadata": {
  "kernelspec": {
   "display_name": "Python 3",
   "language": "python",
   "name": "python3"
  },
  "language_info": {
   "codemirror_mode": {
    "name": "ipython",
    "version": 3
   },
   "file_extension": ".py",
   "mimetype": "text/x-python",
   "name": "python",
   "nbconvert_exporter": "python",
   "pygments_lexer": "ipython3",
   "version": "3.6.3"
  }
 },
 "nbformat": 4,
 "nbformat_minor": 2
}
